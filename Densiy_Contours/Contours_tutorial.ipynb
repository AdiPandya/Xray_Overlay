{
 "cells": [
  {
   "cell_type": "code",
   "execution_count": 68,
   "metadata": {},
   "outputs": [],
   "source": [
    "import pandas as pd\n",
    "import numpy as np\n",
    "from matplotlib.colors import LogNorm\n",
    "import matplotlib.pyplot as plt\n",
    "\n",
    "from astropy.coordinates import SkyCoord\n",
    "from astropy.io import fits\n",
    "import astropy.units as u\n",
    "from astropy import wcs"
   ]
  },
  {
   "cell_type": "code",
   "execution_count": 69,
   "metadata": {},
   "outputs": [],
   "source": [
    "# Importing the galaxy coordinates\n",
    "df = pd.read_csv('Data_Files/Galaxies.csv')"
   ]
  },
  {
   "cell_type": "markdown",
   "metadata": {},
   "source": [
    "# Making a new Density map"
   ]
  },
  {
   "cell_type": "markdown",
   "metadata": {},
   "source": [
    "To make a density map from scratch, first we need to define the grid size of the map. The step variable will be the size of the pixels in the map.  <br />\n",
    "Here the extent of the map is defined slighly larger than the extent of the data. 10% margins are added to the grid. <br />"
   ]
  },
  {
   "cell_type": "code",
   "execution_count": 70,
   "metadata": {},
   "outputs": [],
   "source": [
    "step=1/5 # step size for the grid in degrees\n",
    "marg = 10 # margins for the grid in percentage\n",
    "\n",
    "# Creating the grid\n",
    "ra_min, ra_max = df['ra'].min(), df['ra'].max() \n",
    "dec_min, dec_max = df['dec'].min(), df['dec'].max()\n",
    "\n",
    "grid_ra = np.arange(ra_min-ra_min/marg, ra_max+ra_max/marg, step) #Here we add a 10% margin to the grid \n",
    "grid_dec = np.arange(dec_min+dec_min/marg, dec_max-dec_max/marg, step)\n",
    "\n",
    "ra_size, dec_size = grid_ra.shape[0], grid_dec.shape[0]"
   ]
  },
  {
   "cell_type": "code",
   "execution_count": 71,
   "metadata": {},
   "outputs": [
    {
     "name": "stderr",
     "output_type": "stream",
     "text": [
      "WARNING: FITSFixedWarning: RADECSYS= 'FK5 ' / World coord. system for this file \n",
      "the RADECSYS keyword is deprecated, use RADESYSa. [astropy.wcs.wcs]\n",
      "WARNING: FITSFixedWarning: 'datfix' made the change 'Set DATEREF to '1998-01-01' from MJDREF.\n",
      "Set MJD-OBS to 56707.242813 from DATE-OBS.\n",
      "Set MJD-END to 56707.608900 from DATE-END'. [astropy.wcs.wcs]\n"
     ]
    },
    {
     "data": {
      "text/plain": [
       "WCS Keywords\n",
       "\n",
       "Number of WCS axes: 2\n",
       "CTYPE : 'RA---TAN'  'DEC--TAN'  \n",
       "CRVAL : 97.884125  -56.182  \n",
       "CRPIX : 518.91  518.91  \n",
       "PC1_1 PC1_2  : 1.0  0.0  \n",
       "PC2_1 PC2_2  : 0.0  1.0  \n",
       "CDELT : -0.000694444444444445  0.000694444444444445  \n",
       "NAXIS : 1037  1037"
      ]
     },
     "execution_count": 71,
     "metadata": {},
     "output_type": "execute_result"
    }
   ],
   "source": [
    "ref_image_file = 'Data_Files/RXCJ0631.3-5610_m12pn.fits'\n",
    "ref_image = fits.open(ref_image_file)[0]\n",
    "wcs1 = wcs.WCS(ref_image.header)\n",
    "wcs1"
   ]
  },
  {
   "cell_type": "code",
   "execution_count": 72,
   "metadata": {},
   "outputs": [
    {
     "data": {
      "text/plain": [
       "518.5"
      ]
     },
     "execution_count": 72,
     "metadata": {},
     "output_type": "execute_result"
    }
   ],
   "source": [
    "1037/2"
   ]
  },
  {
   "cell_type": "markdown",
   "metadata": {},
   "source": [
    "## Adding WCS to the map\n",
    "Now, we have to create the World Coordinate System (WCS) for the map. The WCS is a standard for describing the position of a pixel in the sky. This ensures that the map has correct coordinates and projection <br />\n",
    "The WCS created here is a simple sine projection, centered at the mid point of the grid and is created using `astropy` library. <br />\n",
    "This way of creating wcs does not include information about dimensions of the map. We will add that in the next step. "
   ]
  },
  {
   "cell_type": "code",
   "execution_count": 73,
   "metadata": {},
   "outputs": [
    {
     "name": "stdout",
     "output_type": "stream",
     "text": [
      "WCS Keywords\n",
      "\n",
      "Number of WCS axes: 2\n",
      "CTYPE : 'RA---SIN'  'DEC--SIN'  \n",
      "CRVAL : 55.18141400000021  -36.57902099999986  \n",
      "CRPIX : 73.0  47.5  \n",
      "PC1_1 PC1_2  : 1.0  0.0  \n",
      "PC2_1 PC2_2  : 0.0  1.0  \n",
      "CDELT : -0.20000000000000284  0.20000000000000284  \n",
      "NAXIS : 0  0\n"
     ]
    }
   ],
   "source": [
    "w = wcs.WCS(naxis=2)\n",
    "# First we add the projection type\n",
    "w.wcs.ctype = [\"RA---SIN\", \"DEC--SIN\"]\n",
    "# Then the units of the coordinates\n",
    "w.wcs.cunit = [\"deg\", \"deg\"]\n",
    "# Now we set the center/reference pixel of the grid\n",
    "w.wcs.crpix = [ra_size/2, dec_size/2] \n",
    "# This sets the value of the reference pixel in the same units as the coordinates\n",
    "w.wcs.crval = [grid_ra[int(ra_size/2)], grid_dec[int(dec_size/2)]]\n",
    "# This is the pixel scale in degrees. We take the difference between two adjacent pixels in the grid \n",
    "w.wcs.cdelt = np.array([(grid_ra[int(ra_size/2)]-grid_ra[int(ra_size/2)+1]), (grid_dec[int(dec_size/2)+1]-grid_dec[int(dec_size/2)])])\n",
    "# More information avialable on astropy documentation\n",
    "print(w)"
   ]
  },
  {
   "cell_type": "code",
   "execution_count": 74,
   "metadata": {},
   "outputs": [
    {
     "name": "stdout",
     "output_type": "stream",
     "text": [
      "WCS Keywords\n",
      "\n",
      "Number of WCS axes: 2\n",
      "CTYPE : 'RA---SIN'  'DEC--SIN'  \n",
      "CRVAL : 55.181414  -36.579021  \n",
      "CRPIX : 73.0  47.5  \n",
      "PC1_1 PC1_2  : 1.0  0.0  \n",
      "PC2_1 PC2_2  : 0.0  1.0  \n",
      "CDELT : -0.2  0.2  \n",
      "NAXIS : 146  95\n"
     ]
    }
   ],
   "source": [
    "# To add the size of the grid to the header\n",
    "new_header = w.to_header().copy() # copy the header from the wcs object\n",
    "new_header['NAXIS']=2\n",
    "new_header['NAXIS1']=ra_size\n",
    "new_header['NAXIS2']=dec_size\n",
    "new_wcs = wcs.WCS(new_header) # create a new wcs object with the new header\n",
    "# The new wcs has the same information as the old one, but with the NAXIS updated\n",
    "print(new_wcs)"
   ]
  },
  {
   "cell_type": "markdown",
   "metadata": {},
   "source": [
    "## Making density map\n",
    "To create the density map, following steps are used: <br />\n",
    "By going through each pixel in the map, we first calculate the region maximum extent of the pixel. Then we select the data points that are within the region. The density of the pixel is then calculated by counting the number of data points within the region. <br />"
   ]
  },
  {
   "cell_type": "code",
   "execution_count": 75,
   "metadata": {},
   "outputs": [],
   "source": [
    "def get_box_coord(pix_ra, pix_dec, image_wcs):\n",
    "    \"\"\"\n",
    "    This function calculates the coordinates of a box around a pixel in an image.\n",
    "    \n",
    "    Parameters:\n",
    "    pix_ra (float): Pixel coordinate in the x-axis.\n",
    "    pix_dec (float): Pixel coordinate in the y-axis.\n",
    "    image_wcs (astropy.wcs.WCS): WCS of the image.\n",
    "    \n",
    "    Returns:\n",
    "    tuple: A tuple containing the coordinates of the box (ra_prev, dec_prev, ra_next, dec_next).\n",
    "    \"\"\"\n",
    "    ra_next = image_wcs.pixel_to_world(pix_ra+0.5, pix_dec).ra.value\n",
    "    dec_next = image_wcs.pixel_to_world(pix_ra, pix_dec+0.5).dec.value\n",
    "    ra_prev = image_wcs.pixel_to_world(pix_ra-0.5, pix_dec).ra.value\n",
    "    dec_prev = image_wcs.pixel_to_world(pix_ra, pix_dec-0.5).dec.value\n",
    "     \n",
    "    # Sometimes the coordinates are in decrasing order, so we need to swap them\n",
    "    if ra_next < ra_prev:\n",
    "        ra_next, ra_prev = ra_prev, ra_next\n",
    "    if dec_next < dec_prev:\n",
    "        dec_next, dec_prev = dec_prev, dec_next\n",
    "    return ra_prev, dec_prev, ra_next, dec_next"
   ]
  },
  {
   "cell_type": "code",
   "execution_count": 76,
   "metadata": {},
   "outputs": [
    {
     "name": "stdout",
     "output_type": "stream",
     "text": [
      "(146, 95)\n"
     ]
    }
   ],
   "source": [
    "output_map_shape = (new_header['NAXIS1'], new_header['NAXIS2'])\n",
    "print(output_map_shape)"
   ]
  },
  {
   "cell_type": "code",
   "execution_count": 77,
   "metadata": {},
   "outputs": [],
   "source": [
    "density = np.zeros(output_map_shape)\n",
    "# Loop over each pixel in the output map\n",
    "for i in range(output_map_shape[0]):\n",
    "    for j in range(output_map_shape[1]):\n",
    "        # Get the coordinates of the box around the pixel\n",
    "        ra_min, dec_min, ra_max, dec_max = get_box_coord(i, j, new_wcs) \n",
    "        # Create a mask that is True for rows in the dataframe where the 'ra' and 'dec' values are within the box\n",
    "        mask = (df['ra']>ra_min) & (df['ra']<=ra_max) & (df['dec']>dec_min) & (df['dec']<=dec_max)\n",
    "        # Count the number of True values in the mask and assign this to the corresponding element in the density array\n",
    "        density[i,j] = mask.sum()"
   ]
  },
  {
   "cell_type": "code",
   "execution_count": 78,
   "metadata": {},
   "outputs": [],
   "source": [
    "ra_min, ra_max, dec_min, dec_max = df['ra'].min(), df['ra'].max(), df['dec'].min(), df['dec'].max() "
   ]
  },
  {
   "cell_type": "code",
   "execution_count": 79,
   "metadata": {},
   "outputs": [
    {
     "data": {
      "image/png": "[encoded data removed]",
      "text/plain": [
       "<Figure size 800x800 with 1 Axes>"
      ]
     },
     "metadata": {},
     "output_type": "display_data"
    }
   ],
   "source": [
    "fig = plt.figure(1, figsize=(8, 8))\n",
    "ax0 = plt.subplot(projection=new_wcs)\n",
    "ra_ax = ax0.coords[0]\n",
    "ra_ax.set_format_unit(unit='degree')\n",
    "a=ax0.imshow(density.T)\n",
    "#ax0.contour(gaussian_filter(density.T, 1), extent=[my_ra[0], my_ra[-1], my_dec[0], my_dec[-1]],\n",
    "#            transform=ax0.get_transform('icrs'), colors='green', levels=np.logspace(-1, 1.672, 6))\n",
    "#ra = np.linspace(ra_min, ra_max, 100)\n",
    "#dec = np.linspace(dec_min, dec_max, 100)\n",
    "\n",
    "#ax0.plot(ra, [dec_min]*100, color='red', lw=1, transform=ax0.get_transform('icrs'), linestyle='--')\n",
    "#ax0.plot(ra, [dec_max]*100, color='red', lw=1, transform=ax0.get_transform('icrs'), linestyle='--')\n",
    "#ax0.plot([ra_min]*100, dec, color='red', lw=1, transform=ax0.get_transform('icrs'), linestyle='--')\n",
    "#ax0.plot([ra_max]*100, dec, color='red', lw=1, transform=ax0.get_transform('icrs'), linestyle='--')\n",
    "\n",
    "\n",
    "#ax0.scatter(df['ra'],df['dec'], s=1, color='red', alpha=0.5, transform=ax0.get_transform('icrs'))\n",
    "\n",
    "ax0.set_xlim(0, ra_size)\n",
    "ax0.set_ylim(-5, dec_size)\n",
    "ax0.set_xlabel('RA')\n",
    "ax0.set_ylabel('Dec')\n",
    "ax0.grid(color='black', lw=1)\n",
    "#ax0.invert_xaxis()"
   ]
  },
  {
   "cell_type": "markdown",
   "metadata": {},
   "source": [
    "### Saving the map as a fits file\n",
    "The density map is saved as a fits file. Calculated density array is saved as the primary hdu of the fits file. The new_wcs is added as the header of the fits file."
   ]
  },
  {
   "cell_type": "code",
   "execution_count": 80,
   "metadata": {},
   "outputs": [],
   "source": [
    "hdu = fits.PrimaryHDU(density.T, new_header)\n",
    "hdu.writeto('Data_Files/Output_Density_map.fits', overwrite=True)"
   ]
  }
 ],
 "metadata": {
  "kernelspec": {
   "display_name": "base",
   "language": "python",
   "name": "python3"
  },
  "language_info": {
   "codemirror_mode": {
    "name": "ipython",
    "version": 3
   },
   "file_extension": ".py",
   "mimetype": "text/x-python",
   "name": "python",
   "nbconvert_exporter": "python",
   "pygments_lexer": "ipython3",
   "version": "3.9.13"
  }
 },
 "nbformat": 4,
 "nbformat_minor": 2
}
