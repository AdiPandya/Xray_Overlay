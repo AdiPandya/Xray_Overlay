{
 "cells": [
  {
   "cell_type": "code",
   "execution_count": 81,
   "metadata": {},
   "outputs": [],
   "source": [
    "import pandas as pd\n",
    "import numpy as np\n",
    "from matplotlib.colors import LogNorm\n",
    "import matplotlib.pyplot as plt\n",
    "from astropy.coordinates import SkyCoord\n",
    "from astropy.io import fits\n",
    "import astropy.units as u\n",
    "from astropy import wcs"
   ]
  },
  {
   "cell_type": "code",
   "execution_count": 82,
   "metadata": {},
   "outputs": [],
   "source": [
    "df = pd.read_csv('Data_Files/Galaxies.csv')"
   ]
  },
  {
   "cell_type": "code",
   "execution_count": 83,
   "metadata": {},
   "outputs": [],
   "source": [
    "ra_min, ra_max = df['ra'].min(), df['ra'].max()\n",
    "dec_min, dec_max = df['dec'].min(), df['dec'].max()"
   ]
  },
  {
   "cell_type": "code",
   "execution_count": 84,
   "metadata": {},
   "outputs": [
    {
     "data": {
      "text/plain": [
       "(45.09046, 63.41963)"
      ]
     },
     "execution_count": 84,
     "metadata": {},
     "output_type": "execute_result"
    }
   ],
   "source": [
    "ra_min, ra_max"
   ]
  },
  {
   "cell_type": "code",
   "execution_count": 85,
   "metadata": {},
   "outputs": [
    {
     "data": {
      "text/plain": [
       "(-41.79911, -30.14935)"
      ]
     },
     "execution_count": 85,
     "metadata": {},
     "output_type": "execute_result"
    }
   ],
   "source": [
    "dec_min, dec_max"
   ]
  },
  {
   "cell_type": "code",
   "execution_count": 86,
   "metadata": {},
   "outputs": [],
   "source": [
    "step=1/2\n",
    "grid_ra = np.arange(40, 67, step)\n",
    "grid_dec = np.arange(-45, -25, step)"
   ]
  },
  {
   "cell_type": "code",
   "execution_count": 87,
   "metadata": {},
   "outputs": [],
   "source": [
    "ra_size, dec_size = grid_ra.shape[0], grid_dec.shape[0]"
   ]
  },
  {
   "cell_type": "code",
   "execution_count": 88,
   "metadata": {},
   "outputs": [
    {
     "data": {
      "text/plain": [
       "WCS Keywords\n",
       "\n",
       "Number of WCS axes: 2\n",
       "CTYPE : 'RA---SIN'  'DEC--SIN'  \n",
       "CRVAL : 53.5  -35.0  \n",
       "CRPIX : 27.0  20.0  \n",
       "PC1_1 PC1_2  : 1.0  0.0  \n",
       "PC2_1 PC2_2  : 0.0  1.0  \n",
       "CDELT : -0.5  0.5  \n",
       "NAXIS : 0  0"
      ]
     },
     "execution_count": 88,
     "metadata": {},
     "output_type": "execute_result"
    }
   ],
   "source": [
    "w = wcs.WCS(naxis=2)\n",
    "w.wcs.crpix = [ra_size/2, dec_size/2]\n",
    "w.wcs.cdelt = np.array([(grid_ra[int(ra_size/2)]-grid_ra[int(ra_size/2)+1]), (grid_dec[int(dec_size/2)+1]-grid_dec[int(dec_size/2)])])\n",
    "w.wcs.crval = [grid_ra[int(ra_size/2)], grid_dec[int(dec_size/2)]]\n",
    "w.wcs.ctype = [\"RA---SIN\", \"DEC--SIN\"]\n",
    "w.wcs.cunit = [\"deg\", \"deg\"]\n",
    "w"
   ]
  },
  {
   "cell_type": "code",
   "execution_count": 89,
   "metadata": {},
   "outputs": [],
   "source": [
    "new_header = w.to_header().copy()\n",
    "new_header['NAXIS']=2\n",
    "new_header['NAXIS1']=ra_size\n",
    "new_header['NAXIS2']=dec_size\n",
    "new_wcs = wcs.WCS(new_header)"
   ]
  },
  {
   "cell_type": "code",
   "execution_count": 90,
   "metadata": {},
   "outputs": [],
   "source": [
    "def get_box_coord(pix_ra, pix_dec, image_wcs):\n",
    "  \n",
    "    ra_next = image_wcs.pixel_to_world(pix_ra+0.5, pix_dec).ra.value\n",
    "    dec_next = image_wcs.pixel_to_world(pix_ra, pix_dec+0.5).dec.value\n",
    "    ra_prev = image_wcs.pixel_to_world(pix_ra-0.5, pix_dec).ra.value\n",
    "    dec_prev = image_wcs.pixel_to_world(pix_ra, pix_dec-0.5).dec.value\n",
    "\n",
    "    return ra_next, dec_prev, ra_prev, dec_next"
   ]
  },
  {
   "cell_type": "code",
   "execution_count": 91,
   "metadata": {},
   "outputs": [
    {
     "data": {
      "text/plain": [
       "(54, 40)"
      ]
     },
     "execution_count": 91,
     "metadata": {},
     "output_type": "execute_result"
    }
   ],
   "source": [
    "output_map_shape = (new_header['NAXIS1'], new_header['NAXIS2'])\n",
    "output_map_shape"
   ]
  },
  {
   "cell_type": "code",
   "execution_count": 92,
   "metadata": {},
   "outputs": [],
   "source": [
    "density = np.zeros(output_map_shape)\n",
    "for i in range(output_map_shape[0]):\n",
    "    for j in range(output_map_shape[1]):\n",
    "        ra_min, dec_min, ra_max, dec_max = get_box_coord(i, j, new_wcs)\n",
    "        mask = (df['ra']>=ra_min) & (df['ra']<=ra_max) & (df['dec']>=dec_min) & (df['dec']<=dec_max)\n",
    "        density[i,j] = mask.sum()"
   ]
  },
  {
   "cell_type": "code",
   "execution_count": 93,
   "metadata": {},
   "outputs": [
    {
     "data": {
      "image/png": "[encoded data removed]",
      "text/plain": [
       "<Figure size 800x800 with 1 Axes>"
      ]
     },
     "metadata": {},
     "output_type": "display_data"
    }
   ],
   "source": [
    "fig = plt.figure(1, figsize=(8, 8))\n",
    "ax0 = plt.subplot(projection=new_wcs)\n",
    "ra_ax = ax0.coords[0]\n",
    "ra_ax.set_format_unit(unit='degree')\n",
    "a=ax0.imshow(density.T, cmap='inferno')\n",
    "#ax0.contour(gaussian_filter(density.T, 1), extent=[my_ra[0], my_ra[-1], my_dec[0], my_dec[-1]],\n",
    "#            transform=ax0.get_transform('icrs'), colors='green', levels=np.logspace(-1, 1.672, 6))\n",
    "#ax0.plot(ra, [dec_l]*100, color='red', lw=1, transform=ax0.get_transform('icrs'), linestyle='--')\n",
    "#ax0.plot(ra, [dec_h]*100, color='red', lw=1, transform=ax0.get_transform('icrs'), linestyle='--')\n",
    "#ax0.plot([ra_l]*100, dec, color='red', lw=1, transform=ax0.get_transform('icrs'), linestyle='--')\n",
    "#ax0.plot([ra_h]*100, dec, color='red', lw=1, transform=ax0.get_transform('icrs'), linestyle='--')\n",
    "\n",
    "\n",
    "#ax0.scatter(df['ra'],df['dec'], s=1, color='red', alpha=0.5, transform=ax0.get_transform('icrs'))\n",
    "\n",
    "ax0.set_xlim(0, ra_size)\n",
    "ax0.set_ylim(-5, dec_size)\n",
    "ax0.set_xlabel('RA')\n",
    "ax0.set_ylabel('Dec')\n",
    "ax0.grid(color='black', lw=1)\n",
    "#ax0.invert_xaxis()"
   ]
  },
  {
   "cell_type": "code",
   "execution_count": 94,
   "metadata": {},
   "outputs": [],
   "source": [
    "hdu = fits.PrimaryHDU(density.T, new_header)\n",
    "hdu.writeto('test_sqr_aper.fits', overwrite=True)"
   ]
  }
 ],
 "metadata": {
  "kernelspec": {
   "display_name": "base",
   "language": "python",
   "name": "python3"
  },
  "language_info": {
   "codemirror_mode": {
    "name": "ipython",
    "version": 3
   },
   "file_extension": ".py",
   "mimetype": "text/x-python",
   "name": "python",
   "nbconvert_exporter": "python",
   "pygments_lexer": "ipython3",
   "version": "3.9.13"
  }
 },
 "nbformat": 4,
 "nbformat_minor": 2
}
