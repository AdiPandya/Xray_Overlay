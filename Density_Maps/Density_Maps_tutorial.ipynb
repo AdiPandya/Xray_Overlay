{
 "cells": [
  {
   "cell_type": "code",
   "execution_count": 27,
   "metadata": {},
   "outputs": [],
   "source": [
    "import pandas as pd\n",
    "import numpy as np\n",
    "from matplotlib.colors import LogNorm\n",
    "import matplotlib.pyplot as plt\n",
    "\n",
    "from astropy.io import fits\n",
    "import astropy.units as u\n",
    "from astropy import wcs"
   ]
  },
  {
   "cell_type": "code",
   "execution_count": 28,
   "metadata": {},
   "outputs": [],
   "source": [
    "# Importing the galaxy coordinates\n",
    "df = pd.read_csv('Data_Files/Galaxies.csv')"
   ]
  },
  {
   "cell_type": "markdown",
   "metadata": {},
   "source": [
    "# Making a new Density map"
   ]
  },
  {
   "cell_type": "markdown",
   "metadata": {},
   "source": [
    "To make a density map from scratch, first we need to define the grid size of the map. The step variable will be the size of the pixels in the map.  <br />\n",
    "Here the extent of the map is defined slighly larger than the extent of the data. 10% margins are added to the grid. <br />"
   ]
  },
  {
   "cell_type": "code",
   "execution_count": 29,
   "metadata": {},
   "outputs": [],
   "source": [
    "step = 1/5 # step size for the grid in degrees\n",
    "marg = 10 # margins for the grid in percentage\n",
    "\n",
    "# Creating the grid\n",
    "ra_min, ra_max = df['ra'].min(), df['ra'].max() \n",
    "dec_min, dec_max = df['dec'].min(), df['dec'].max()\n",
    "\n",
    "ra_ext, dec_ext = ra_max-ra_min, dec_max-dec_min\n",
    "\n",
    "grid_ra = np.arange(ra_min-ra_ext/marg, ra_max+ra_ext/marg, step) #Here we add a 10% margin to the grid \n",
    "grid_dec = np.arange(dec_min-dec_ext/marg, dec_max+dec_ext/marg, step)\n",
    "\n",
    "ra_size, dec_size = grid_ra.shape[0], grid_dec.shape[0]"
   ]
  },
  {
   "cell_type": "markdown",
   "metadata": {},
   "source": [
    "## Adding WCS to the map\n",
    "Now, we have to create the World Coordinate System (WCS) for the map. The WCS is a standard for describing the position of a pixel in the sky. This ensures that the map has correct coordinates and projection <br />\n",
    "The WCS created here is a simple sine projection, centered at the mid point of the grid and is created using `astropy` library. <br />\n",
    "This way of creating wcs does not include information about dimensions of the map. We will add that in the next step. "
   ]
  },
  {
   "cell_type": "code",
   "execution_count": 30,
   "metadata": {},
   "outputs": [
    {
     "name": "stdout",
     "output_type": "stream",
     "text": [
      "WCS Keywords\n",
      "\n",
      "Number of WCS axes: 2\n",
      "CTYPE : 'RA---SIN'  'DEC--SIN'  \n",
      "CRVAL : 54.257543000000155  -35.9640859999999  \n",
      "CRPIX : 55.0  35.0  \n",
      "PC1_1 PC1_2  : 1.0  0.0  \n",
      "PC2_1 PC2_2  : 0.0  1.0  \n",
      "CDELT : -0.20000000000000284  0.20000000000000284  \n",
      "NAXIS : 0  0\n"
     ]
    }
   ],
   "source": [
    "w = wcs.WCS(naxis=2)\n",
    "# First we add the projection type\n",
    "w.wcs.ctype = [\"RA---SIN\", \"DEC--SIN\"]\n",
    "# Then the units of the coordinates\n",
    "w.wcs.cunit = [\"deg\", \"deg\"]\n",
    "# Now we set the center/reference pixel of the grid\n",
    "w.wcs.crpix = [ra_size/2, dec_size/2] \n",
    "# This sets the value of the reference pixel in the same units as the coordinates\n",
    "w.wcs.crval = [grid_ra[int(ra_size/2)], grid_dec[int(dec_size/2)]]\n",
    "# This is the pixel scale in degrees. We take the difference between two adjacent pixels in the grid \n",
    "w.wcs.cdelt = np.array([(grid_ra[int(ra_size/2)]-grid_ra[int(ra_size/2)+1]), (grid_dec[int(dec_size/2)+1]-grid_dec[int(dec_size/2)])])\n",
    "# More information avialable on astropy documentation\n",
    "print(w)"
   ]
  },
  {
   "cell_type": "code",
   "execution_count": 31,
   "metadata": {},
   "outputs": [
    {
     "name": "stdout",
     "output_type": "stream",
     "text": [
      "WCS Keywords\n",
      "\n",
      "Number of WCS axes: 2\n",
      "CTYPE : 'RA---SIN'  'DEC--SIN'  \n",
      "CRVAL : 54.257543  -35.964086  \n",
      "CRPIX : 55.0  35.0  \n",
      "PC1_1 PC1_2  : 1.0  0.0  \n",
      "PC2_1 PC2_2  : 0.0  1.0  \n",
      "CDELT : -0.2  0.2  \n",
      "NAXIS : 110  70\n"
     ]
    }
   ],
   "source": [
    "# To add the size of the grid to the header\n",
    "new_header = w.to_header().copy() # copy the header from the wcs object\n",
    "new_header['NAXIS']=2\n",
    "new_header['NAXIS1']=ra_size\n",
    "new_header['NAXIS2']=dec_size\n",
    "new_wcs = wcs.WCS(new_header) # create a new wcs object with the new header\n",
    "# The new wcs has the same information as the old one, but with the NAXIS updated\n",
    "print(new_wcs)"
   ]
  },
  {
   "cell_type": "markdown",
   "metadata": {},
   "source": [
    "## Making density map\n",
    "To create the density map, following steps are used: <br />\n",
    "By going through each pixel that corresponds to a galaxy, the density of the pixel is then calculated by counting the number of data points within the region."
   ]
  },
  {
   "cell_type": "code",
   "execution_count": 33,
   "metadata": {},
   "outputs": [
    {
     "name": "stdout",
     "output_type": "stream",
     "text": [
      "(110, 70)\n"
     ]
    }
   ],
   "source": [
    "output_map_shape = (new_header['NAXIS1'], new_header['NAXIS2'])\n",
    "print(output_map_shape)"
   ]
  },
  {
   "cell_type": "code",
   "execution_count": 62,
   "metadata": {},
   "outputs": [],
   "source": [
    "density = np.zeros(output_map_shape)\n",
    "# Loop over the galaxies and add them to the grid\n",
    "for i in range(len(df)):\n",
    "    # Convert the world coordinates (ra, dec) to pixel coordinates\n",
    "    app_ra, app_dec = new_wcs.world_to_pixel_values(df['ra'][i], df['dec'][i])\n",
    "    # Round the pixel coordinates to the nearest integer\n",
    "    pix_ra, pix_dec = int(np.rint(app_ra)), int(np.rint(app_dec))\n",
    "    \n",
    "    # Increment the density value at the corresponding pixel in the density map\n",
    "    density[pix_ra,pix_dec] += 1"
   ]
  },
  {
   "cell_type": "code",
   "execution_count": 63,
   "metadata": {},
   "outputs": [
    {
     "data": {
      "image/png": "[encoded data removed]",
      "text/plain": [
       "<Figure size 600x600 with 1 Axes>"
      ]
     },
     "metadata": {},
     "output_type": "display_data"
    }
   ],
   "source": [
    "# Plot the density map\n",
    "fig = plt.figure(1, figsize=(6, 6))\n",
    "ax0 = plt.subplot(projection=new_wcs)\n",
    "ra_ax = ax0.coords[0]\n",
    "ra_ax.set_format_unit(unit='degree')\n",
    "\n",
    "ax0.imshow(density.T)\n",
    "\n",
    "ax0.set_xlabel('RA')\n",
    "ax0.set_ylabel('Dec')\n",
    "ax0.grid(color='black', lw=1)"
   ]
  },
  {
   "cell_type": "markdown",
   "metadata": {},
   "source": [
    "### Saving the map as a fits file\n",
    "The density map is saved as a fits file. Calculated density array is saved as the primary hdu of the fits file. The new_wcs is added as the header of the fits file."
   ]
  },
  {
   "cell_type": "code",
   "execution_count": 66,
   "metadata": {},
   "outputs": [],
   "source": [
    "hdu = fits.PrimaryHDU(density.T, new_header)\n",
    "hdu.writeto('Data_Files/Output_Density_map.fits', overwrite=True)"
   ]
  },
  {
   "cell_type": "markdown",
   "metadata": {},
   "source": [
    "## Extra information"
   ]
  },
  {
   "cell_type": "markdown",
   "metadata": {},
   "source": [
    "### Using xray fits file for the output grid\n",
    "\n",
    "If you wish to use grid and wcs from an existing fits file, you can  follow the steps below: <br />\n",
    "1. Read the fits file using `astropy.io.fits` library. <br />\n",
    "2. Extract the data and wcs from the fits file. <br />\n",
    "3. Most of the time, the grid dimensions are very large and for making a density map, you might want to use larger pixels. This is done by binning. <br />\n",
    "4. Loop through the data and calculate the density map as described above. "
   ]
  },
  {
   "cell_type": "code",
   "execution_count": 68,
   "metadata": {},
   "outputs": [
    {
     "name": "stdout",
     "output_type": "stream",
     "text": [
      "WCS Keywords\n",
      "\n",
      "Number of WCS axes: 2\n",
      "CTYPE : 'RA---TAN'  'DEC--TAN'  \n",
      "CRVAL : 97.884125  -56.182  \n",
      "CRPIX : 518.91  518.91  \n",
      "PC1_1 PC1_2  : 1.0  0.0  \n",
      "PC2_1 PC2_2  : 0.0  1.0  \n",
      "CDELT : -0.000694444444444445  0.000694444444444445  \n",
      "NAXIS : 1037  1037\n"
     ]
    }
   ],
   "source": [
    "ref_image_file = 'Data_Files/RXCJ0631.3-5610_m12pn.fits'\n",
    "ref_image = fits.open(ref_image_file)[0]\n",
    "ref_wcs = wcs.WCS(ref_image.header)\n",
    "\n",
    "# Create empty 2D array for the output map\n",
    "output_map_shape = (ref_image.header['NAXIS2'], ref_image.header['NAXIS1'])\n",
    "output_map = np.zeros(output_map_shape)\n",
    "\n",
    "print(ref_wcs)"
   ]
  },
  {
   "cell_type": "markdown",
   "metadata": {},
   "source": [
    "Run the loop with these output_map dimensions and wcs. <br />\n",
    "If you want to have larger pixels, you use following code to bin the data. Set the binning factor to the number you want. "
   ]
  },
  {
   "cell_type": "code",
   "execution_count": 73,
   "metadata": {},
   "outputs": [],
   "source": [
    "bin_f = 2 # binning factor\n",
    "bin_header = ref_image.header.copy()\n",
    "\n",
    "bin_header['NAXIS'] = 2\n",
    "bin_header['NAXIS1'] = ref_image.header['NAXIS1']/bin_f\n",
    "bin_header['NAXIS2'] = ref_image.header['NAXIS2']/bin_f\n",
    "bin_header['CRPIX1'] = (ref_image.header['NAXIS1']/(2*bin_f))\n",
    "bin_header['CRPIX2'] = (ref_image.header['NAXIS2']/(2*bin_f))\n",
    "bin_header['CDELT1'] = ref_image.header['CDELT1']*bin_f\n",
    "bin_header['CDELT2'] = ref_image.header['CDELT2']*bin_f"
   ]
  },
  {
   "cell_type": "markdown",
   "metadata": {},
   "source": [
    "Use the new wcs and dimensions to create the density map."
   ]
  },
  {
   "cell_type": "markdown",
   "metadata": {},
   "source": [
    "### Different grid step and density map region\n",
    "\n",
    "In the above codes, the grid step size is the same as extent of region used for calculating the density map.\n",
    "Incase you want to have a difference in grid step and the region used for calculating the density map, you can use the following method. <br />\n",
    "1. Create a new wcs with the desired grid step size. <br />\n",
    "2. Use the new wcs to create a new grid. <br />\n",
    "3. Use the `get_box_coords` function to get the calculate the extent of the region by setting it interms of pixels. <br />\n",
    "4. Use this new extent to calculate the density map."
   ]
  },
  {
   "cell_type": "code",
   "execution_count": 83,
   "metadata": {},
   "outputs": [],
   "source": [
    "def get_box_coord(pix_ra, pix_dec, image_wcs, ext=3):\n",
    "    \"\"\"\n",
    "    This function calculates the coordinates of a box around a pixel in an image.\n",
    "    \n",
    "    Parameters:\n",
    "    pix_ra (float): Pixel coordinate in the x-axis.\n",
    "    pix_dec (float): Pixel coordinate in the y-axis.\n",
    "    image_wcs (astropy.wcs.WCS): WCS of the image.\n",
    "    ext (int): Extent of the box in terms of pixels.\n",
    "    \n",
    "    Returns:\n",
    "    tuple: A tuple containing the coordinates of the box (ra_prev, dec_prev, ra_next, dec_next).\n",
    "    \"\"\"\n",
    "    ra_next = image_wcs.pixel_to_world(pix_ra+(ext/2), pix_dec).ra.value\n",
    "    dec_next = image_wcs.pixel_to_world(pix_ra, pix_dec+(ext/2)).dec.value\n",
    "    ra_prev = image_wcs.pixel_to_world(pix_ra-(ext/2), pix_dec).ra.value\n",
    "    dec_prev = image_wcs.pixel_to_world(pix_ra, pix_dec-(ext/2)).dec.value\n",
    "     \n",
    "    # Sometimes the coordinates are in decrasing order, so we need to swap them\n",
    "    if ra_next < ra_prev:\n",
    "        ra_next, ra_prev = ra_prev, ra_next\n",
    "    if dec_next < dec_prev:\n",
    "        dec_next, dec_prev = dec_prev, dec_next\n",
    "    return ra_prev, dec_prev, ra_next, dec_next"
   ]
  },
  {
   "cell_type": "markdown",
   "metadata": {},
   "source": [
    "Use this function to obatin the density map as following: "
   ]
  },
  {
   "cell_type": "code",
   "execution_count": null,
   "metadata": {},
   "outputs": [],
   "source": [
    "density = np.zeros(output_map_shape)\n",
    "# Loop over each pixel in the output map\n",
    "for i in range(output_map_shape[0]):\n",
    "    for j in range(output_map_shape[1]):\n",
    "        # Get the coordinates of the box around the pixel\n",
    "        ra_min, dec_min, ra_max, dec_max = get_box_coord(i, j, new_wcs) \n",
    "        # Create a mask that is True for rows in the dataframe where the 'ra' and 'dec' values are within the box\n",
    "        mask = (df['ra']>=ra_min) & (df['ra']<=ra_max) & (df['dec']>=dec_min) & (df['dec']<=dec_max)\n",
    "        # Count the number of True values in the mask and assign this to the corresponding element in the density array\n",
    "        density[i,j] = mask.sum()"
   ]
  }
 ],
 "metadata": {
  "kernelspec": {
   "display_name": "base",
   "language": "python",
   "name": "python3"
  },
  "language_info": {
   "codemirror_mode": {
    "name": "ipython",
    "version": 3
   },
   "file_extension": ".py",
   "mimetype": "text/x-python",
   "name": "python",
   "nbconvert_exporter": "python",
   "pygments_lexer": "ipython3",
   "version": "3.9.13"
  }
 },
 "nbformat": 4,
 "nbformat_minor": 2
}
